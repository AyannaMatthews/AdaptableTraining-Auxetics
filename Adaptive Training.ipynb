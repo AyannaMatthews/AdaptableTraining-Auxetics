{
 "cells": [
  {
   "cell_type": "code",
   "execution_count": 1,
   "id": "313dc51e",
   "metadata": {},
   "outputs": [
    {
     "name": "stdout",
     "output_type": "stream",
     "text": [
      "importing Jupyter notebook from Network_Jammed.ipynb\n"
     ]
    }
   ],
   "source": [
    "import numpy as np\n",
    "from matplotlib import pyplot as plt\n",
    "\n",
    "import import_ipynb\n",
    "import Network_Jammed as Network"
   ]
  },
  {
   "cell_type": "code",
   "execution_count": 2,
   "id": "241f8815",
   "metadata": {},
   "outputs": [],
   "source": [
    "# oscillating adaptive training. Takes an input network, cycle train length, number of oscillations and applied training strain (eps)\n",
    "# returns networks through training, bulk moduli through training, and shear moduli through training\n",
    "def osc(net, train_length, num_osc, eps):\n",
    "    T = train_length * num_osc\n",
    "    train_type = True\n",
    "    working_net = net.copy()\n",
    "    nets = [working_net.copy()]\n",
    "    Bs = []\n",
    "    Gs = []\n",
    "    \n",
    "    for t in range(T):\n",
    "        # oscillates training direction\n",
    "        if t%train_length == 0:\n",
    "            train_type = not(train_type)\n",
    "            \n",
    "        # trains for a low poisson ratio\n",
    "        if train_type == True:\n",
    "            bulk_net, B = nets[-1].bulk_modulus(eps)\n",
    "            shear_net, G = nets[-1].shear_modulus(eps)\n",
    "            Bs.append(B)\n",
    "            Gs.append(G)\n",
    "            cut_bond_ind = np.argmax(np.abs(bulk_net.stresses()))\n",
    "            nets.append(nets[-1].prune(cut_bond_ind))\n",
    "            \n",
    "        # trains for a high poisson ratio\n",
    "        if train_type == False:\n",
    "            bulk_net, B = nets[-1].bulk_modulus(eps)\n",
    "            shear_net, G = nets[-1].shear_modulus(eps)\n",
    "            Bs.append(B)\n",
    "            Gs.append(G)\n",
    "            cut_bond_ind = np.argmax(np.abs(shear_net.stresses()))\n",
    "            nets.append(nets[-1].prune(cut_bond_ind))\n",
    "            \n",
    "    bulk_net, B = nets[-1].bulk_modulus(eps)\n",
    "    shear_net, G = nets[-1].shear_modulus(eps)\n",
    "    Bs.append(B)\n",
    "    Gs.append(G)\n",
    "    \n",
    "    return np.array(nets), np.array(Bs), np.array(Gs) "
   ]
  },
  {
   "cell_type": "code",
   "execution_count": 3,
   "id": "7281d986",
   "metadata": {},
   "outputs": [],
   "source": [
    "# control training. Takes a network, cycle training time, an applied training strain (eps), and a training direction \n",
    "#(-1 is for a low poisson ratio, +1 is a high poisson ratio)\n",
    "def train(net, T, eps, train_type = -1):\n",
    "    working_net = net.copy()\n",
    "    nets = [working_net.copy()]\n",
    "    Bs = []\n",
    "    Gs = []\n",
    "    \n",
    "    for t in range(T):\n",
    "        \n",
    "        # trains for a low poisson ratio id train_type = -1\n",
    "        if train_type == -1:\n",
    "            bulk_net, B = nets[-1].bulk_modulus(eps)\n",
    "            shear_net, G = nets[-1].shear_modulus(eps)\n",
    "            Bs.append(B)\n",
    "            Gs.append(G)\n",
    "            cut_bond_ind = np.argmax(np.abs(bulk_net.stresses()))\n",
    "            nets.append(nets[-1].prune(cut_bond_ind))\n",
    "            \n",
    "        # trains for a low poisson ratio id train_type = +1\n",
    "        if train_type == 1:\n",
    "            bulk_net, B = nets[-1].bulk_modulus(eps)\n",
    "            shear_net, G = nets[-1].shear_modulus(eps)\n",
    "            Bs.append(B)\n",
    "            Gs.append(G)\n",
    "            cut_bond_ind = np.argmax(np.abs(shear_net.stresses()))\n",
    "            nets.append(nets[-1].prune(cut_bond_ind))\n",
    "            \n",
    "    bulk_net, B = nets[-1].bulk_modulus(eps)\n",
    "    shear_net, G = nets[-1].shear_modulus(eps)\n",
    "    Bs.append(B)\n",
    "    Gs.append(G)\n",
    "    \n",
    "    return np.array(nets), np.array(Bs), np.array(Gs) "
   ]
  },
  {
   "cell_type": "code",
   "execution_count": 4,
   "id": "010ed14c",
   "metadata": {},
   "outputs": [],
   "source": [
    "# calculates poisson ratios\n",
    "def poisson_ratios(Gs, Bs):\n",
    "    v = (1 - Gs/Bs) / (1 + Gs/Bs)\n",
    "    return v"
   ]
  },
  {
   "cell_type": "code",
   "execution_count": 5,
   "id": "8ad88b70",
   "metadata": {},
   "outputs": [],
   "source": [
    "net = Network.get_network(200, '1', 5)\n",
    "trained_nets, Bs, Gs = osc(net, 20, 4, -1e-6)"
   ]
  },
  {
   "cell_type": "code",
   "execution_count": 6,
   "id": "5664d551",
   "metadata": {},
   "outputs": [],
   "source": [
    "vs = poisson_ratios(Gs, Bs)"
   ]
  },
  {
   "cell_type": "code",
   "execution_count": null,
   "id": "72266581",
   "metadata": {},
   "outputs": [],
   "source": []
  }
 ],
 "metadata": {
  "kernelspec": {
   "display_name": "Python 3 (ipykernel)",
   "language": "python",
   "name": "python3"
  },
  "language_info": {
   "codemirror_mode": {
    "name": "ipython",
    "version": 3
   },
   "file_extension": ".py",
   "mimetype": "text/x-python",
   "name": "python",
   "nbconvert_exporter": "python",
   "pygments_lexer": "ipython3",
   "version": "3.9.13"
  }
 },
 "nbformat": 4,
 "nbformat_minor": 5
}
