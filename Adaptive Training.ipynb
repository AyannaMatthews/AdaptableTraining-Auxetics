{
 "cells": [
  {
   "cell_type": "code",
   "execution_count": 1,
   "id": "313dc51e",
   "metadata": {},
   "outputs": [
    {
     "name": "stdout",
     "output_type": "stream",
     "text": [
      "importing Jupyter notebook from Network_Jammed.ipynb\n"
     ]
    }
   ],
   "source": [
    "import numpy as np\n",
    "from matplotlib import pyplot as plt\n",
    "\n",
    "import import_ipynb\n",
    "import Network_Jammed as Network"
   ]
  },
  {
   "cell_type": "code",
   "execution_count": 2,
   "id": "241f8815",
   "metadata": {},
   "outputs": [],
   "source": [
    "def osc(net, train_length, num_osc, eps):\n",
    "    T = train_length * num_osc\n",
    "    train_type = True\n",
    "    working_net = net.copy()\n",
    "    nets = [working_net.copy()]\n",
    "    Bs = []\n",
    "    Gs = []\n",
    "    for t in range(T):\n",
    "        if t%train_length == 0:\n",
    "            train_type = not(train_type)\n",
    "        if train_type == True:\n",
    "            bulk_net, B = nets[-1].bulk_modulus(eps)\n",
    "            shear_net, G = nets[-1].shear_modulus(eps)\n",
    "            Bs.append(B)\n",
    "            Gs.append(G)\n",
    "            cut_bond_ind = np.argmax(np.abs(bulk_net.stresses()))\n",
    "            nets.append(nets[-1].prune(cut_bond_ind))\n",
    "        if train_type == False:\n",
    "            bulk_net, B = nets[-1].bulk_modulus(eps)\n",
    "            shear_net, G = nets[-1].shear_modulus(eps)\n",
    "            Bs.append(B)\n",
    "            Gs.append(G)\n",
    "            cut_bond_ind = np.argmax(np.abs(shear_net.stresses()))\n",
    "            nets.append(nets[-1].prune(cut_bond_ind))\n",
    "    bulk_net, B = nets[-1].bulk_modulus(eps)\n",
    "    shear_net, G = nets[-1].shear_modulus(eps)\n",
    "    Bs.append(B)\n",
    "    Gs.append(G)\n",
    "    \n",
    "    return np.array(nets), np.array(Bs), np.array(Gs) "
   ]
  },
  {
   "cell_type": "code",
   "execution_count": 3,
   "id": "7281d986",
   "metadata": {},
   "outputs": [],
   "source": [
    "def train(net, T, eps, train_type = -1):\n",
    "    working_net = net.copy()\n",
    "    nets = [working_net.copy()]\n",
    "    Bs = []\n",
    "    Gs = []\n",
    "    for t in range(T):\n",
    "        if train_type == -1:\n",
    "            bulk_net, B = nets[-1].bulk_modulus(eps)\n",
    "            shear_net, G = nets[-1].shear_modulus(eps)\n",
    "            Bs.append(B)\n",
    "            Gs.append(G)\n",
    "            cut_bond_ind = np.argmax(np.abs(bulk_net.stresses()))\n",
    "            nets.append(nets[-1].prune(cut_bond_ind))\n",
    "        if train_type == 1:\n",
    "            bulk_net, B = nets[-1].bulk_modulus(eps)\n",
    "            shear_net, G = nets[-1].shear_modulus(eps)\n",
    "            Bs.append(B)\n",
    "            Gs.append(G)\n",
    "            cut_bond_ind = np.argmax(np.abs(shear_net.stresses()))\n",
    "            nets.append(nets[-1].prune(cut_bond_ind))\n",
    "    bulk_net, B = nets[-1].bulk_modulus(eps)\n",
    "    shear_net, G = nets[-1].shear_modulus(eps)\n",
    "    Bs.append(B)\n",
    "    Gs.append(G)\n",
    "    \n",
    "    return np.array(nets), np.array(Bs), np.array(Gs) "
   ]
  },
  {
   "cell_type": "code",
   "execution_count": 5,
   "id": "010ed14c",
   "metadata": {},
   "outputs": [],
   "source": [
    "def poisson_ratios(Gs, Bs):\n",
    "    v = (1 - Gs/Bs) / (1 + Gs/Bs)\n",
    "    return v"
   ]
  },
  {
   "cell_type": "code",
   "execution_count": null,
   "id": "8ad88b70",
   "metadata": {},
   "outputs": [],
   "source": []
  }
 ],
 "metadata": {
  "kernelspec": {
   "display_name": "Python 3 (ipykernel)",
   "language": "python",
   "name": "python3"
  },
  "language_info": {
   "codemirror_mode": {
    "name": "ipython",
    "version": 3
   },
   "file_extension": ".py",
   "mimetype": "text/x-python",
   "name": "python",
   "nbconvert_exporter": "python",
   "pygments_lexer": "ipython3",
   "version": "3.9.13"
  }
 },
 "nbformat": 4,
 "nbformat_minor": 5
}
